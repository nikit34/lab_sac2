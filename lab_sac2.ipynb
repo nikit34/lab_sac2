{
 "cells": [
  {
   "cell_type": "markdown",
   "metadata": {},
   "source": [
    "Системы аналитических вычислений.\n",
    "\n",
    "Студент: Пермяков Никита Александрович, М8О-208Б-19\n",
    "\n",
    "Лабораторная работа № 2"
   ]
  },
  {
   "cell_type": "markdown",
   "metadata": {},
   "source": [
    "### Задание 1. Вариант А. дихотомия и метод Ньютона\n",
    "\n",
    "Поиск решения осуществляется путём построения последовательных приближений и основан на принципах простой итерации. Метод обладает квадратичной сходимостью. "
   ]
  },
  {
   "cell_type": "code",
   "execution_count": 93,
   "metadata": {},
   "outputs": [],
   "source": [
    "# Дано\n",
    "f(x) = x^3 - 9*x^2 + 23*x - 15\n",
    "a = (0, 2, 0.5)\n",
    "b = (0, 2, 0.5)\n",
    "step = (1, 2, 1)\n",
    "\n",
    "xmin = -1\n",
    "xmax = 5.5\n",
    "ymin = -4\n",
    "ymax = 5\n",
    "\n",
    "eps = 1e-5"
   ]
  },
  {
   "cell_type": "code",
   "execution_count": 94,
   "metadata": {},
   "outputs": [
    {
     "data": {
      "text/plain": [
       "[x == 1, x == 5, x == 3]"
      ]
     },
     "execution_count": 94,
     "metadata": {},
     "output_type": "execute_result"
    }
   ],
   "source": [
    "# Решим уравнение\n",
    "solve([f(x) == 0], x)"
   ]
  },
  {
   "cell_type": "code",
   "execution_count": 95,
   "metadata": {},
   "outputs": [],
   "source": [
    "# Метод дихотомии - ищем точку пересечения с Ox\n",
    "def dichotomy(funс, a, b, eps):\n",
    "    if funс(a) * funс(b) > 0:\n",
    "        return None\n",
    "    m = (a + b) / 2.\n",
    "    if abs(funс(m).n()) < eps:\n",
    "        return m\n",
    "    if func(m) * funс(a) < 0:\n",
    "        return dichotomy(funс, a, m)\n",
    "    else:\n",
    "        return dichotomy(funс, m, b)"
   ]
  },
  {
   "cell_type": "code",
   "execution_count": 96,
   "metadata": {},
   "outputs": [],
   "source": [
    "# Метод Ньютона - ищем точку пересечения с Ox\n",
    "def newton(fun, a, b, eps):\n",
    "    x1 = a\n",
    "    x2 = (a + b) / 2\n",
    "    df = fun.derivative()\n",
    "    while abs(x2 - x1) >= eps:\n",
    "        x1 = x2\n",
    "        x2 = x1 - fun(x=x1) / df(x=x1)\n",
    "    if abs(fun(x=x1)) <= 1e-3:\n",
    "        return x1\n",
    "    return None"
   ]
  },
  {
   "cell_type": "code",
   "execution_count": 103,
   "metadata": {
    "scrolled": true
   },
   "outputs": [
    {
     "data": {
      "application/vnd.jupyter.widget-view+json": {
       "model_id": "622a3d8f3b9a48f3980dd4b674e52ce9",
       "version_major": 2,
       "version_minor": 0
      },
      "text/plain": [
       "Interactive function <function func_interact at 0x7fd54cb5a1f0> with 3 widgets\n",
       "  a: FloatSlider(value=1.0, min…"
      ]
     },
     "metadata": {},
     "output_type": "display_data"
    }
   ],
   "source": [
    "def setup_graph(func):\n",
    "    return point((float(func), 0), color='green', aspect_ratio=1, size=30)\n",
    "\n",
    "@interact\n",
    "def func_interact(a=a, b=b, step=step):    \n",
    "    # f, eps - global\n",
    "    \n",
    "    # дихотомия\n",
    "    di = [dichotomy(f, a, b, eps)]\n",
    "    # Добавляем по шагу\n",
    "    di.append(dichotomy(f, a + step, b + step, eps))\n",
    "    di.append(dichotomy(f, a + 2 * step, b + 2 * step, eps))\n",
    "    \n",
    "    # Ньютон\n",
    "    newt = [newton(f, a, b, eps)]\n",
    "    # Добавляем по шагу\n",
    "    newt.append(newton(f, a + step, b + step, eps))\n",
    "    newt.append(newton(f, a + 2 * step, b + 2 * step, eps))\n",
    "    \n",
    "    \n",
    "    # устанавливаем параметры \n",
    "    graph = [plot(f, (x, xmin, xmax), ymin=ymin, ymax=ymax, aspect_ratio=1, figsize=[3,2], color='black')] * 6\n",
    "    \n",
    "    for i in range(len(graph)):\n",
    "        if i <= 2 and di[i] is not None:\n",
    "            graph[i] += setup_graph(di[i])\n",
    "        if i > 2 and newt[i-3] is not None:\n",
    "            graph[i] += setup_graph(newt[i-3])\n",
    "\n",
    "    \n",
    "    str_ = \"Корни, полученные методом дихотомии: \"\n",
    "    for d in di:\n",
    "        if d is not None:\n",
    "            str_ += str(round(float(d))) + \" \"\n",
    "            \n",
    "    str_ += \"\\nКорни, полученные методом Ньютона: \"\n",
    "    for n in newt:\n",
    "        if n is not None:\n",
    "            str_ += str(round(float(n))) + \" \"\n",
    "            \n",
    "            \n",
    "    # рисуем\n",
    "    show(\"метод дихотомии\")        \n",
    "    graphics_array([[graph[0], graph[1], graph[2]]]).show(frame=True)\n",
    "    show(\"метод Ньютона\")\n",
    "    graphics_array([[graph[3], graph[4], graph[5]]]).show(frame=True)            \n",
    "    show(str_)"
   ]
  },
  {
   "cell_type": "markdown",
   "metadata": {},
   "source": [
    " результат, полученный методом дихотомии и Ньютона совпадает с результатом solve для каждого корня"
   ]
  },
  {
   "cell_type": "markdown",
   "metadata": {},
   "source": [
    "### Задание 2. Вариант 2. полиномы и расширенный алгоритм Евклида"
   ]
  },
  {
   "cell_type": "code",
   "execution_count": 105,
   "metadata": {},
   "outputs": [
    {
     "data": {
      "text/html": [
       "<html><script type=\"math/tex; mode=display\">\\newcommand{\\Bold}[1]{\\mathbf{#1}}f(x), g(x) = 5 \\, x^{4} - 15 \\, x^{3} + 15 \\, x^{2} - 5 \\, x</script></html>"
      ],
      "text/plain": [
       "f(x), g(x) = 5 \\, x^{4} - 15 \\, x^{3} + 15 \\, x^{2} - 5 \\, x"
      ]
     },
     "metadata": {},
     "output_type": "display_data"
    }
   ],
   "source": [
    "f(x) = 5*x^4 - 15*x^3 + 15*x^2 - 5*x\n",
    "g(x) = -22*x^5 + 33*x^4 - 11*x^3 - 99*x + 99\n",
    "\n",
    "show(LatexExpr(r'f(x), g(x) = ' + latex(f(x), g(x))))"
   ]
  },
  {
   "cell_type": "code",
   "execution_count": null,
   "metadata": {},
   "outputs": [],
   "source": []
  },
  {
   "cell_type": "code",
   "execution_count": null,
   "metadata": {},
   "outputs": [],
   "source": []
  },
  {
   "cell_type": "code",
   "execution_count": null,
   "metadata": {},
   "outputs": [],
   "source": []
  },
  {
   "cell_type": "code",
   "execution_count": null,
   "metadata": {},
   "outputs": [],
   "source": []
  },
  {
   "cell_type": "code",
   "execution_count": null,
   "metadata": {},
   "outputs": [],
   "source": []
  },
  {
   "cell_type": "code",
   "execution_count": null,
   "metadata": {},
   "outputs": [],
   "source": []
  },
  {
   "cell_type": "code",
   "execution_count": null,
   "metadata": {},
   "outputs": [],
   "source": []
  },
  {
   "cell_type": "code",
   "execution_count": null,
   "metadata": {},
   "outputs": [],
   "source": []
  }
 ],
 "metadata": {
  "kernelspec": {
   "display_name": "SageMath 9.0",
   "language": "sage",
   "name": "sagemath"
  },
  "language_info": {
   "codemirror_mode": {
    "name": "ipython",
    "version": 3
   },
   "file_extension": ".py",
   "mimetype": "text/x-python",
   "name": "python",
   "nbconvert_exporter": "python",
   "pygments_lexer": "ipython3",
   "version": "3.8.5"
  }
 },
 "nbformat": 4,
 "nbformat_minor": 4
}
