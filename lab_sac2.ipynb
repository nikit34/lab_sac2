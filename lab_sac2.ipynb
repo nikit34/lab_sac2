{
 "cells": [
  {
   "cell_type": "markdown",
   "metadata": {},
   "source": [
    "Системы аналитических вычислений.\n",
    "\n",
    "Студент: Пермяков Никита Александрович, М8О-208Б-19\n",
    "\n",
    "Лабораторная работа № 2"
   ]
  },
  {
   "cell_type": "markdown",
   "metadata": {},
   "source": [
    "### Вариант А. дихотомия и метод Ньютона\n",
    "\n",
    "Поиск решения осуществляется путём построения последовательных приближений и основан на принципах простой итерации. Метод обладает квадратичной сходимостью. "
   ]
  },
  {
   "cell_type": "code",
   "execution_count": 51,
   "metadata": {},
   "outputs": [],
   "source": [
    "# Дано\n",
    "f(x) = x^3 - 9*x^2 + 23*x - 15\n",
    "a = (0, 2, 0.5)\n",
    "b = (0, 2, 0.5)\n",
    "step = (1, 2, 1)"
   ]
  },
  {
   "cell_type": "code",
   "execution_count": 52,
   "metadata": {},
   "outputs": [
    {
     "data": {
      "text/plain": [
       "[x == 1, x == 5, x == 3]"
      ]
     },
     "execution_count": 52,
     "metadata": {},
     "output_type": "execute_result"
    }
   ],
   "source": [
    "# Решим уравнение\n",
    "solve([f(x) == 0], x)"
   ]
  },
  {
   "cell_type": "code",
   "execution_count": 53,
   "metadata": {},
   "outputs": [],
   "source": [
    "# Метод дихотомии - ищем точку пересечения с Ox\n",
    "def dichotomy(funс, a, b, eps):\n",
    "    if funс(a) * funс(b) > 0:\n",
    "        return None\n",
    "    m = (a + b) / 2.\n",
    "    if abs(funс(m).n()) < eps:\n",
    "        return m\n",
    "    if func(m) * funс(a) < 0:\n",
    "        return dichotomy(funс, a, m)\n",
    "    else:\n",
    "        return dichotomy(funс, m, b)"
   ]
  },
  {
   "cell_type": "code",
   "execution_count": 60,
   "metadata": {},
   "outputs": [],
   "source": [
    "# Метод Ньютона - ищем точку пересечения с Ox\n",
    "def newton(fun, a, b, eps):\n",
    "    x1 = a\n",
    "    x2 = (a + b) / 2\n",
    "    df = fun.derivative()\n",
    "    while abs(x2 - x1) >= eps:\n",
    "        x1 = x2\n",
    "        x2 = x1 - fun(x=x1) / df(x=x1)\n",
    "    if abs(fun(x=x1)) <= 1e-3:\n",
    "        return x1\n",
    "    return None"
   ]
  },
  {
   "cell_type": "code",
   "execution_count": 61,
   "metadata": {},
   "outputs": [
    {
     "data": {
      "application/vnd.jupyter.widget-view+json": {
       "model_id": "e7eae449bd66431fb2a56bca4c76ecb3",
       "version_major": 2,
       "version_minor": 0
      },
      "text/plain": [
       "Interactive function <function func_interact at 0x7fd54c9a44c0> with 3 widgets\n",
       "  a: FloatSlider(value=1.0, min…"
      ]
     },
     "metadata": {},
     "output_type": "display_data"
    }
   ],
   "source": [
    "@interact\n",
    "def func_interact(a=a, b=b, step=step):\n",
    "    xmin = -1\n",
    "    xmax = 5.5\n",
    "    ymin = -4\n",
    "    ymax = 5\n",
    "    eps = 1e-5\n",
    "    \n",
    "    #функция\n",
    "    f(x) = x^3 - 9*x^2 + 23*x - 15\n",
    "    #значения корней методом дихотомии и Ньютона\n",
    "    di = [dichotomy(f, a, b, eps)]\n",
    "    di.append(dichotomy(f, a+step, b+step, eps))\n",
    "    di.append(dichotomy(f, a+2*step, b+2*step, eps))\n",
    "    newt = [newton(f, a, b, eps)]\n",
    "    newt.append(newton(f, a+step, b+step, eps))\n",
    "    newt.append(newton(f, a+2*step, b+2*step, eps))\n",
    "    show(\"метод дихотомии - красные графики\")\n",
    "    show(\"метод Ньютона - синие\")\n",
    "    gr = [plot(f, (x, xmin, xmax), ymin=ymin, ymax=ymax, aspect_ratio=1, figsize=[3,2], color='red')]*3\n",
    "    gr.extend([plot(f, (x, xmin, xmax), ymin=ymin, ymax=ymax, aspect_ratio=1, figsize=[3,2], color='blue')]*3)\n",
    "    for i in range(len(gr)):\n",
    "        if i <= 2 and di[i] is not None:\n",
    "            gr[i] += point((float(di[i]), 0), color='green', aspect_ratio=1, size=30)\n",
    "        if i > 2 and newt[i-3] is not None:\n",
    "            gr[i] += point((float(newt[i-3]), 0), color='green', aspect_ratio=1, size=30)\n",
    "\n",
    "    #вывод массива графиков\n",
    "    graphics_array([[gr[0], gr[1], gr[2]], [gr[3], gr[4], gr[5]]]).show(frame=True)\n",
    "\n",
    "    str_ = \"Корни, полученные методом дихотомии: \"\n",
    "    for d in di:\n",
    "        if d is not None:\n",
    "            str_ += str(round(float(d))) + \" \"\n",
    "    str_ += \"\\nКорни, полученные методом Ньютона: \"\n",
    "    for n in newt:\n",
    "        if n is not None:\n",
    "            str_ += str(round(float(n))) + \" \"\n",
    "    show(str_)"
   ]
  },
  {
   "cell_type": "code",
   "execution_count": null,
   "metadata": {},
   "outputs": [],
   "source": []
  },
  {
   "cell_type": "code",
   "execution_count": null,
   "metadata": {},
   "outputs": [],
   "source": []
  },
  {
   "cell_type": "code",
   "execution_count": null,
   "metadata": {},
   "outputs": [],
   "source": []
  },
  {
   "cell_type": "code",
   "execution_count": null,
   "metadata": {},
   "outputs": [],
   "source": []
  },
  {
   "cell_type": "code",
   "execution_count": null,
   "metadata": {},
   "outputs": [],
   "source": []
  },
  {
   "cell_type": "code",
   "execution_count": null,
   "metadata": {},
   "outputs": [],
   "source": []
  },
  {
   "cell_type": "code",
   "execution_count": null,
   "metadata": {},
   "outputs": [],
   "source": []
  },
  {
   "cell_type": "code",
   "execution_count": null,
   "metadata": {},
   "outputs": [],
   "source": []
  },
  {
   "cell_type": "code",
   "execution_count": null,
   "metadata": {},
   "outputs": [],
   "source": []
  },
  {
   "cell_type": "code",
   "execution_count": null,
   "metadata": {},
   "outputs": [],
   "source": []
  },
  {
   "cell_type": "code",
   "execution_count": null,
   "metadata": {},
   "outputs": [],
   "source": []
  }
 ],
 "metadata": {
  "kernelspec": {
   "display_name": "SageMath 9.0",
   "language": "sage",
   "name": "sagemath"
  },
  "language_info": {
   "codemirror_mode": {
    "name": "ipython",
    "version": 3
   },
   "file_extension": ".py",
   "mimetype": "text/x-python",
   "name": "python",
   "nbconvert_exporter": "python",
   "pygments_lexer": "ipython3",
   "version": "3.8.5"
  }
 },
 "nbformat": 4,
 "nbformat_minor": 4
}
